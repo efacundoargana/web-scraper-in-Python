{
 "cells": [
  {
   "cell_type": "code",
   "execution_count": 1,
   "metadata": {},
   "outputs": [],
   "source": [
    "from bs4 import BeautifulSoup\n",
    "from requests import get\n",
    "import pandas as pd\n",
    "import itertools\n",
    "import matplotlib.pyplot as plt\n",
    "import seaborn as sns\n",
    "sns.set()"
   ]
  },
  {
   "cell_type": "code",
   "execution_count": 2,
   "metadata": {},
   "outputs": [],
   "source": [
    "headers = ({'User-Agent':\n",
    "            'Mozilla/5.0 (Windows NT 6.1) AppleWebKit/537.36 (KHTML, like Gecko) Chrome/41.0.2228.0 Safari/537.36'})"
   ]
  },
  {
   "cell_type": "code",
   "execution_count": 3,
   "metadata": {},
   "outputs": [],
   "source": [
    "argenprop = \"https://www.argenprop.com/ph-alquiler-barrio-villa-urquiza-barrio-coghlan-barrio-saavedra-barrio-villa-ortuzar-hasta-250000-pesos\"\n",
    "\n",
    "response = get(argenprop, headers=headers)"
   ]
  },
  {
   "cell_type": "code",
   "execution_count": 4,
   "metadata": {},
   "outputs": [
    {
     "name": "stdout",
     "output_type": "stream",
     "text": [
      "<Response [200]>\n"
     ]
    }
   ],
   "source": [
    "print(response)"
   ]
  },
  {
   "cell_type": "code",
   "execution_count": 5,
   "metadata": {},
   "outputs": [
    {
     "name": "stdout",
     "output_type": "stream",
     "text": [
      "\n",
      "\n",
      "\n",
      "<!DOCTYPE html>\n",
      "<html lang=\"es\">\n",
      "<head>\n",
      "    <link href=\"https://static1.sosiva451.com/\" rel=\"preconnect\"></link>\n",
      "<link href=\"https://www.google-analytics.com\" rel=\"preconnect\"></link>\n",
      "<link href=\"https://www.facebook.com\" rel=\"preconnect\"></link>\n",
      "<link href=\"https://www.google.com\" rel=\"preconnect\"></link>\n",
      "<link href=\"https://www.googleadservices.com\" rel=\"preconnect\"></link>\n",
      "<link href=\"https://www.googletagmanager.com\" rel=\"preconnect\"></link>\n",
      "<link href=\"https://www.googletagservices.com\" rel=\"preconnect\"></link>\n",
      "    <link href=\"/Content/favicons/argenprop.ico\" rel=\"shortcut icon\" type=\"image/png\"></link>\n",
      "    <meta content=\"text/html; charset=UTF-8\" http-equiv=\"Content-Type\"><script type=\"text/javascript\">window.NREUM||(NREUM={});NREUM.info = {\"beacon\":\"bam.nr-data.net\",\"errorBeacon\":\"bam.nr-data.net\",\"licenseKey\":\"eebe922528\",\"applicationID\":\"255445515\",\"transactionName\":\"MgdbbUBZVxdRU01eWwtNdG9xF3UNQ0RQWVMmDVdNQFdVCFVCFn5aAQdB\",\"queueTime\":0,\"applicationTime\":195,\"agent\n"
     ]
    }
   ],
   "source": [
    "print(response.text[:1000])"
   ]
  },
  {
   "cell_type": "code",
   "execution_count": 6,
   "metadata": {},
   "outputs": [],
   "source": [
    "html_soup = BeautifulSoup(response.text, 'html.parser')"
   ]
  },
  {
   "cell_type": "code",
   "execution_count": 7,
   "metadata": {},
   "outputs": [],
   "source": [
    "house_containers = html_soup.find_all('div', class_=\"listing__item\")"
   ]
  },
  {
   "cell_type": "code",
   "execution_count": 19,
   "metadata": {},
   "outputs": [
    {
     "data": {
      "text/plain": [
       "[<p class=\"card__price\">\n",
       "                 $ 25.000\n",
       "             </p>, <p class=\"card__points\">\n",
       "             1.112\n",
       "         </p>, <p class=\"card__location\">\n",
       "             Ph en Alquiler en Saavedra, Capital Federal\n",
       "         </p>, <p class=\"card__common-data\">\n",
       "             70 m²<span>•</span>2 dormitorios<span>•</span>1 baño\n",
       "         </p>, <p class=\"card__info\">\n",
       "         Hermoso, muy espacioso y luminoso ph tipo loft, ubicado al frente , entrada independiente. Hall de entrada, cocina comedor con salida a patio, baño completo y dos habitaciones, una en pb y otra en entrepiso con salida a balcón. Terraza abierta y muy soleada. Superficie cubierta 70m2 y descubierto 58m2.\n",
       " EL ALQUILER INCLUYE ABL Y SIN EXPENSAS.\n",
       " Requisitos: garantía familiar directo, mes de deposito,\n",
       "     </p>]"
      ]
     },
     "execution_count": 19,
     "metadata": {},
     "output_type": "execute_result"
    }
   ],
   "source": [
    "first = house_containers[0]\n",
    "first.find_all('p')"
   ]
  },
  {
   "cell_type": "code",
   "execution_count": 38,
   "metadata": {},
   "outputs": [
    {
     "name": "stdout",
     "output_type": "stream",
     "text": [
      "\n",
      "                $ 25.000\n",
      "             <class 'str'>\n"
     ]
    }
   ],
   "source": [
    "var_1 = first.find_all('p')[0].text\n",
    "print(var_1, type(var_1))"
   ]
  },
  {
   "cell_type": "code",
   "execution_count": 51,
   "metadata": {},
   "outputs": [
    {
     "name": "stdout",
     "output_type": "stream",
     "text": [
      "Ph en Alquiler en Saavedra, Capital Federal\n"
     ]
    }
   ],
   "source": [
    "location = first.find_all('p', class_=\"card__location\")[0].text.strip()\n",
    "print(location)"
   ]
  },
  {
   "cell_type": "code",
   "execution_count": 50,
   "metadata": {},
   "outputs": [
    {
     "data": {
      "text/plain": [
       "'Ph en Alquiler en Saavedra, Capital Federal'"
      ]
     },
     "execution_count": 50,
     "metadata": {},
     "output_type": "execute_result"
    }
   ],
   "source": [
    "# print(location.splitlines())\n",
    "\n",
    "location.strip()"
   ]
  },
  {
   "cell_type": "code",
   "execution_count": 20,
   "metadata": {},
   "outputs": [
    {
     "data": {
      "text/plain": [
       "'\\r\\n            70 m²•2 dormitorios•1 baño\\r\\n        '"
      ]
     },
     "execution_count": 20,
     "metadata": {},
     "output_type": "execute_result"
    }
   ],
   "source": [
    "size = first.find_all('p', class_=\"card__common-data\")[0].text\n",
    "size"
   ]
  },
  {
   "cell_type": "code",
   "execution_count": 21,
   "metadata": {},
   "outputs": [
    {
     "data": {
      "text/plain": [
       "'\\r\\n        Hermoso, muy espacioso y luminoso ph tipo loft, ubicado al frente , entrada independiente. Hall de entrada, cocina comedor con salida a patio, baño completo y dos habitaciones, una en pb y otra en entrepiso con salida a balcón. Terraza abierta y muy soleada. Superficie cubierta 70m2 y descubierto 58m2.\\nEL ALQUILER INCLUYE ABL Y SIN EXPENSAS.\\nRequisitos: garantía familiar directo, mes de deposito,\\r\\n    '"
      ]
     },
     "execution_count": 21,
     "metadata": {},
     "output_type": "execute_result"
    }
   ],
   "source": [
    "description = first.find_all('p', class_=\"card__info\")[0].text\n",
    "description"
   ]
  },
  {
   "cell_type": "code",
   "execution_count": 23,
   "metadata": {},
   "outputs": [
    {
     "name": "stdout",
     "output_type": "stream",
     "text": [
      "/ph-en-alquiler-en-saavedra-3-ambientes--6647344\n"
     ]
    }
   ],
   "source": [
    "for url in first.find_all('a'):\n",
    "    print(url.get('href'))"
   ]
  },
  {
   "cell_type": "code",
   "execution_count": 24,
   "metadata": {},
   "outputs": [
    {
     "data": {
      "text/plain": [
       "'https://www.argenprop.com/ph-en-alquiler-en-saavedra-3-ambientes--6647344'"
      ]
     },
     "execution_count": 24,
     "metadata": {},
     "output_type": "execute_result"
    }
   ],
   "source": [
    "'https://www.argenprop.com' + first.find_all('a')[0].get('href')"
   ]
  },
  {
   "cell_type": "code",
   "execution_count": null,
   "metadata": {},
   "outputs": [],
   "source": []
  }
 ],
 "metadata": {
  "kernelspec": {
   "display_name": "Python 3",
   "language": "python",
   "name": "python3"
  },
  "language_info": {
   "codemirror_mode": {
    "name": "ipython",
    "version": 3
   },
   "file_extension": ".py",
   "mimetype": "text/x-python",
   "name": "python",
   "nbconvert_exporter": "python",
   "pygments_lexer": "ipython3",
   "version": "3.7.3"
  }
 },
 "nbformat": 4,
 "nbformat_minor": 4
}
